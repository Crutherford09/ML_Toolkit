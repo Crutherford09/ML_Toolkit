{
 "cells": [
  {
   "cell_type": "markdown",
   "metadata": {},
   "source": [
    "<!--BOOK_INFORMATION-->\n",
    "*The text is released under the [CC-BY-NC-ND license](https://creativecommons.org/licenses/by-nc-nd/3.0/us/legalcode). All code is released under the [MIT license](https://opensource.org/licenses/MIT). If you find this content useful, please consider supporting the work by donating to bitcoin:* <b>13A1gKs2Q947quUB9aMF8YiDbcTYsNL5n1</b>\n",
    "\n",
    "<b>Author:</b>  *Cody Rutherford* <b>  Company:</b> *Todos Innovations, LLC* <b>  Created:</b> *2017-03-01*  Updated: *2017-06-09*"
   ]
  },
  {
   "cell_type": "markdown",
   "metadata": {},
   "source": [
    "<!--BOOK_INFORMATION-->\n",
    "<img align=\"Center\" style=\"padding-right:10px;\" src=\"Figures/python.png\">\n",
    "<font size=\"1\">Image Source: https://coderdojo.com/wp-content/uploads/2015/03/python.png</font>\n"
   ]
  },
  {
   "cell_type": "markdown",
   "metadata": {},
   "source": [
    "<img align=\"Center\" style=\"padding-right:10px;\" src=\"Figures/ml.png\">\n",
    "<font size=\"1\">Image Source: https://static.pexels.com/photos/356182/pexels-photo-356182.png</font>\n"
   ]
  },
  {
   "cell_type": "markdown",
   "metadata": {},
   "source": [
    "# General Machine Learning Model"
   ]
  },
  {
   "cell_type": "markdown",
   "metadata": {
    "collapsed": true
   },
   "source": [
    "## Introduction\n",
    "Welcome to our general Machine Learning template. Although the concepts here are directed for use with Python, this template was \n",
    "created through research and application using Python, R, Google TensorFlow, and AWS Machine Learning. Over time, this template\n",
    "will be updated to include additional information more strictly related to those other products and tools. For now, we'll focus on Python. Please keep in mind there is no guarantee for the accuracy or applicability of the information contained here. This is merely my vessel to encourage self-learning and exploration of the Machine Learning & Neural Network worlds. \n",
    "\n",
    "Should you find that this template is missing information, contains incorrect code, or could be impvroved- please don't hesitate to reach out at coddrutherford@gmail.com. \n",
    "\n",
    "### Assumptions\n",
    "Although this is meant to be a document worthy of introducing one to Machine Learning, there are a few assumptions made for those utilizing this notebook at this time- \n",
    "1. *You should understand the basic concepts of Statistics.* If you don't, then you can start by taking this course- https://www.coursera.org/specializations/business-statistics-analysis OR if you are capable of self management, https://www.amazon.com/Data-Science-Scratch-Principles-Python/dp/149190142X/ref=pd_lpo_sbs_14_t_1?_encoding=UTF8&psc=1&refRID=9FSVNPE1E3M9KS26EC5S.<br>\n",
    "<br>\n",
    "2. *You should know the basics of programming in Python (3.5+).* If you need to brush up on your skills, or are learning from scratch, I recommend CodeAcademy's course-https://www.codecademy.com/learn/python. Short, straightforward, and relatively fun.As for getting some hands-on time with Machine Learning prior to/during use of this notebook, the following course from Coursera looks great https://www.coursera.org/learn/python-machine-learning.<br>\n",
    "<br>\n",
    "3. *You should understand the concept and underlying meaning of the terms \"Machine Learning,\" \"Deep Learning,\" and \"Neural Networks.\"* Although this notebook is currently limited to Machine learning, this will change over time. A great started point is https://blogs.nvidia.com/blog/2016/07/29/whats-difference-artificial-intelligence-machine-learning-deep-learning-ai/ AND check out google's tensorflow to see what some of the future implications will be- https://www.youtube.com/watch?v=oZikw5k_2FM.\n",
    "\n",
    "### Contents:\n",
    "\n",
    "1.Global Preparation <br>2.Data Preprocessing <br> 3.Model Building <br> 4.Data Analysis & Visualization <br> 5.Optimization <br> 6.Testing <br> 7.Production <br> 8.Maintenance <br>"
   ]
  },
  {
   "cell_type": "markdown",
   "metadata": {},
   "source": [
    "## 1. Global Preparation \n",
    "Global Preparation refers to any preparation tasks that need not be completed in the midst of the script itself. This may include Library Importations, Data/Datasource Importation, Conditions, or general information. "
   ]
  },
  {
   "cell_type": "markdown",
   "metadata": {},
   "source": [
    "### Document Header\n",
    "Within the Document Header you should add brief information of importance to the user. Copyrights (If not on a Project level), Authorship, Version, and other documentation of importance."
   ]
  },
  {
   "cell_type": "code",
   "execution_count": null,
   "metadata": {
    "collapsed": true
   },
   "outputs": [],
   "source": [
    "\"\"\"\n",
    "ML Model Template Example\n",
    "Author: Cody\n",
    "Python: 3.5\n",
    "\"\"\""
   ]
  },
  {
   "cell_type": "markdown",
   "metadata": {},
   "source": [
    "   ### Import Libraries\n",
    "In order to access the proper libraries for Machine Learning, you'll need to import modules for your tasks. Be sure to remember which modules/libraries you use the most. Taking an additional hour or two to understand how each module works is a great way to learn more in-depth skills. You can see some examples of libraries below: "
   ]
  },
  {
   "cell_type": "code",
   "execution_count": null,
   "metadata": {
    "collapsed": true
   },
   "outputs": [],
   "source": [
    "import numpy as np\n",
    "import matplotlib.pyplot as plt\n",
    "import pandas as pd"
   ]
  },
  {
   "cell_type": "markdown",
   "metadata": {},
   "source": [
    "### Global Conditions\n",
    "To be completed\n"
   ]
  },
  {
   "cell_type": "markdown",
   "metadata": {},
   "source": [
    "### Import Data/Datasources\n",
    "From others I have learned this to be the most logical location for your initial data import. To do this properly, it consists of a few steps: Finding/Making the root folder location of your data, setting up your development kit to point to that directory, and then importing the initial dataset. \n"
   ]
  },
  {
   "cell_type": "code",
   "execution_count": null,
   "metadata": {
    "collapsed": true
   },
   "outputs": [],
   "source": [
    "# Using pandas to read a CSV file and convert \"?\" to NaN\n",
    "df = pd.read_csv(\"http://[YOURWEBSITE.com]/ml/machine-learning-databases/autos/dogs.data\",\n",
    "                  header=None, names=headers, na_values=\"?\" )"
   ]
  },
  {
   "cell_type": "markdown",
   "metadata": {},
   "source": [
    "## 2. Data Preproccessing\n",
    "Unfortunately not all (or even muchof) the data you deal with will be ready for modelling at first import. There are numerous circumstances that can affect the need for preprocessing. To name a few: missing data, improper data types/formats, outliers, categorical data, etc. In this section you'l find some of the most commonly used methods for preprocessing."
   ]
  },
  {
   "cell_type": "markdown",
   "metadata": {},
   "source": [
    "###   Blank data wrangling"
   ]
  },
  {
   "cell_type": "markdown",
   "metadata": {
    "collapsed": true
   },
   "source": [
    "There will be times that a dataset will contain missing/null datas. When this occurs many algorythms cannot handle missing data and may be heavily affected. Some algorithms such as k-Nearest neighbor, ignore missing values. While others treat missing values as their own unique/distinct value such as classification or regression trees. Those that can make use are called Robust. For the other algorythms incapable of functioning properly removal/replacement of all blank datas is necessary. \n",
    "\n",
    "The removal process may involve: \n",
    "- Missin Data Identification\n",
    "- Removal\n",
    "- Imputation\n",
    "   - When imputing, we may use:\n",
    "       - a distinct constant\n",
    "       - another value (randomly selected in the dataset)\n",
    "       - a value determined by another predictive model\n",
    "       - the mean, median, mode value for the respective column"
   ]
  },
  {
   "cell_type": "code",
   "execution_count": null,
   "metadata": {
    "collapsed": true
   },
   "outputs": [],
   "source": [
    "#Add Code Here"
   ]
  },
  {
   "cell_type": "markdown",
   "metadata": {},
   "source": [
    "### Encoding Categorical Features\n",
    "Encoding categorical features in necessary if you want to accurately determine the 'weight' and coeefficient of different categorical options within one column. With that said there are several different methods that can be used with the most common i've seen being the 'onehotencoder' module. Here are a couple links that can help get you started with encoding:\n",
    "\n",
    "- http://pbpython.com/categorical-encoding.html\n",
    "- http://scikit-learn.org/stable/modules/preprocessing.html\n"
   ]
  },
  {
   "cell_type": "code",
   "execution_count": null,
   "metadata": {
    "collapsed": true
   },
   "outputs": [],
   "source": [
    "#Add Code Here"
   ]
  },
  {
   "cell_type": "markdown",
   "metadata": {},
   "source": [
    "## 3. Model Build\n",
    "Determine model type (eg. Random Forest, Simple Regressions, Multivariate, etc.) and choose the correct template for your needs. This template is for general understanding. If only it were as simple as uploading a csv and letting the machine determine the best course of action. Since it isn't quite possible (Although AWS, Azure have decent plug and play regression ML tools) it is better to either know wich model you need - or if you aren't a data scientist, to run different metrics evaluating ML algorithms. \n",
    "\n",
    "Let's introduce the different algorithms for ML at the moment:\n",
    "\n",
    "- #### Logistic Regression (LR)\n",
    "A technique borrowed from the field of statistics and applied to ML. It is the go-to method for binary classification problems (problems with two class values). ... Techniques used to learn the coefficients of a logistic regression model from data. In other words, if completed properly, each feuture is assigned a 'weight' of importance that is applied later to the questions you may ask the model. A good place to learn more: http://machinelearningmastery.com/logistic-regression-for-machine-learning/\n",
    "\n",
    "\n",
    "- #### Linear Discriminant Analysis (LDA)\n",
    "\n",
    "- #### K-Nearest Neighbors (KNN)\n",
    "\n",
    "- #### Classification and Regression Trees (CART)\n",
    "\n",
    "- #### Gaussian Naive Bayes (NB)\n",
    "\n",
    "- #### Support Vector Machines (SVM)\n"
   ]
  },
  {
   "cell_type": "code",
   "execution_count": null,
   "metadata": {
    "collapsed": true
   },
   "outputs": [],
   "source": [
    "#Add Code Here"
   ]
  },
  {
   "cell_type": "markdown",
   "metadata": {},
   "source": [
    "   ### Split Data into Training & Testing Sets\n",
    "   To be completed"
   ]
  },
  {
   "cell_type": "code",
   "execution_count": null,
   "metadata": {
    "collapsed": true
   },
   "outputs": [],
   "source": [
    "#Add Code Here"
   ]
  },
  {
   "cell_type": "markdown",
   "metadata": {},
   "source": [
    "   ### Feature Scaling\n",
    "   To be completed"
   ]
  },
  {
   "cell_type": "code",
   "execution_count": null,
   "metadata": {
    "collapsed": true
   },
   "outputs": [],
   "source": [
    "#Add Code Here"
   ]
  },
  {
   "cell_type": "markdown",
   "metadata": {},
   "source": [
    "   ### Prediction (Regression) Generation\n",
    "   To be completed"
   ]
  },
  {
   "cell_type": "code",
   "execution_count": null,
   "metadata": {
    "collapsed": true
   },
   "outputs": [],
   "source": [
    "#Add Code Here"
   ]
  },
  {
   "cell_type": "markdown",
   "metadata": {},
   "source": [
    "## 4. Data Analysis & Visualizations\n",
    "To be completed"
   ]
  },
  {
   "cell_type": "markdown",
   "metadata": {},
   "source": [
    "   ###   Data Analysis\n",
    "   To be completed"
   ]
  },
  {
   "cell_type": "code",
   "execution_count": null,
   "metadata": {
    "collapsed": true
   },
   "outputs": [],
   "source": [
    "#Add Code Here"
   ]
  },
  {
   "cell_type": "markdown",
   "metadata": {},
   "source": [
    "   ### Visualizations"
   ]
  },
  {
   "cell_type": "code",
   "execution_count": null,
   "metadata": {
    "collapsed": true
   },
   "outputs": [],
   "source": [
    "#Add Code Here"
   ]
  },
  {
   "cell_type": "markdown",
   "metadata": {},
   "source": [
    "## 5. Optimization"
   ]
  },
  {
   "cell_type": "markdown",
   "metadata": {},
   "source": [
    "### Reverse Model Optimization"
   ]
  },
  {
   "cell_type": "code",
   "execution_count": null,
   "metadata": {
    "collapsed": true
   },
   "outputs": [],
   "source": [
    "#Add Code Here"
   ]
  },
  {
   "cell_type": "markdown",
   "metadata": {},
   "source": [
    "   #### Reverses Attribute/Variable Analysis\n",
    "Backwards elimination for multiple leanear models aka.multivariate, multiple regression, etc."
   ]
  },
  {
   "cell_type": "code",
   "execution_count": null,
   "metadata": {
    "collapsed": true
   },
   "outputs": [],
   "source": []
  },
  {
   "cell_type": "markdown",
   "metadata": {},
   "source": [
    "#### Attribute/Variable Removal"
   ]
  },
  {
   "cell_type": "code",
   "execution_count": null,
   "metadata": {
    "collapsed": true
   },
   "outputs": [],
   "source": [
    "#Add Code Here"
   ]
  },
  {
   "cell_type": "markdown",
   "metadata": {},
   "source": [
    "## 6. Testing"
   ]
  },
  {
   "cell_type": "markdown",
   "metadata": {
    "collapsed": true
   },
   "source": []
  },
  {
   "cell_type": "markdown",
   "metadata": {},
   "source": [
    "## 7. Production"
   ]
  },
  {
   "cell_type": "markdown",
   "metadata": {},
   "source": [
    "## 8. Maintenance"
   ]
  },
  {
   "cell_type": "markdown",
   "metadata": {},
   "source": [
    "## 9. Additional Resources\n",
    "https://research.google.com/pubs/papers.html\n"
   ]
  }
 ],
 "metadata": {
  "kernelspec": {
   "display_name": "Python 3",
   "language": "python",
   "name": "python3"
  },
  "language_info": {
   "codemirror_mode": {
    "name": "ipython",
    "version": 3
   },
   "file_extension": ".py",
   "mimetype": "text/x-python",
   "name": "python",
   "nbconvert_exporter": "python",
   "pygments_lexer": "ipython3",
   "version": "3.6.0"
  }
 },
 "nbformat": 4,
 "nbformat_minor": 2
}
