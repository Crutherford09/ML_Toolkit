{
 "cells": [
  {
   "cell_type": "markdown",
   "metadata": {},
   "source": [
    "<!--BOOK_INFORMATION-->\n",

    "<font size=\"1\">Image Source: https://coderdojo.com/wp-content/uploads/2015/03/python.png</font>\n",
    "\n",
    "*The text is released under the [CC-BY-NC-ND license](https://creativecommons.org/licenses/by-nc-nd/3.0/us/legalcode). All code is released under the [MIT license](https://opensource.org/licenses/MIT). If you find this content useful, please consider supporting the work by donating to bitcoin:* 13A1gKs2Q947quUB9aMF8YiDbcTYsNL5n1 \n",
    "\n",
    "Author:  *Cody Rutherford*\n",
    "Company: *Todos Innovations, LLC*\n",
    "Created: *2017-03-01*"
   ]
  },
  {
   "cell_type": "markdown",
   "metadata": {},
   "source": [
    "# General Machine Learning Template\n"
   ]
  },
  {
   "cell_type": "markdown",
   "metadata": {
    "collapsed": true
   },
   "source": [
    "Welcome to our general Machine Learning template. Although the concepts here are directed for use with Python, this template was \n",
    "created through research and application using Python, R, Google TensorFlow, and AWS Machine Learning. Over time, this template\n",
    "will be updated to include additional information more strictly related to those other products and tools. Please keep in mind\n",
    "there is no guarantee for the accuracy or applicability of the information contained here. This is merely my vessel to \n",
    "encourage self-learning and exploration of the Machine Learning & Neural Network worlds. \n"
   ]
  },
  {
   "cell_type": "markdown",
   "metadata": {},
   "source": [
    "## 1. Global Preparation "
   ]
  },
  {
   "cell_type": "markdown",
   "metadata": {},
   "source": [
    "Global Preparation refers to any preparation tasks that need not be completed in the midst of the script itself. This may include Library Importations, Data/Datasource Importation, Conditions, or general information. "
   ]
  },
  {
   "cell_type": "markdown",
   "metadata": {},
   "source": [
    "### Document Header\n",
    "Within the Document Header you should add brief information of importance to the user. Copyrights (If not on a Project level), Authorship, Version, and other documentation of importance."
   ]
  },
  {
   "cell_type": "code",
   "execution_count": null,
   "metadata": {
    "collapsed": true
   },
   "outputs": [],
   "source": [
    "\"\"\"\n",
    "ML Model Template Example\n",
    "Author: Cody\n",
    "Python: 3.5\n",
    "\"\"\""
   ]
  },
  {
   "cell_type": "markdown",
   "metadata": {},
   "source": [
    "   ### Import Libraries\n",
    "In order to access the proper libraries for Machine Learning, you'll need to import the libraries for your tasks. You can see some examples below. "
   ]
  },
  {
   "cell_type": "code",
   "execution_count": null,
   "metadata": {
    "collapsed": true
   },
   "outputs": [],
   "source": [
    "import numpy as np\n",
    "import matplotlib.pyplot as plt\n",
    "import pandas as pd"
   ]
  },
  {
   "cell_type": "markdown",
   "metadata": {},
   "source": [
    "   ### Global Conditions\n"
   ]
  },
  {
   "cell_type": "markdown",
   "metadata": {},
   "source": [
    "   ### Import Data/Datasources\n"
   ]
  },
  {
   "cell_type": "code",
   "execution_count": null,
   "metadata": {
    "collapsed": true
   },
   "outputs": [],
   "source": []
  },
  {
   "cell_type": "markdown",
   "metadata": {},
   "source": [
    "## 2. Data Preproccessing"
   ]
  },
  {
   "cell_type": "markdown",
   "metadata": {},
   "source": [
    "###   Blank data wrangling"
   ]
  },
  {
   "cell_type": "markdown",
   "metadata": {
    "collapsed": true
   },
   "source": [
    "There will be times that a dataset will contain missing/null datas. When this occurs many algorythms cannot handle missing data and may be heavily affected. Some algorithms such as k-Nearest neighbor, ignore missing values. While others treat missing values as their own unique/distinct value such as classification or regression trees. Those that can make use are called Robust. For the other algorythms incapable of functioning properly removal/replacement of all blank datas is necessary. \n",
    "\n",
    "The removal process may involve: \n",
    "- Missin Data Identification\n",
    "- Removal\n",
    "- Imputation\n",
    "   - When imputing, we may use:\n",
    "       - a distinct constant\n",
    "       - another value (randomly selected in the dataset)\n",
    "       - a value determined by another predictive model\n",
    "       - the mean, median, mode value for the respective column"
   ]
  },
  {
   "cell_type": "code",
   "execution_count": null,
   "metadata": {
    "collapsed": true
   },
   "outputs": [],
   "source": [
    "#Add Code Here"
   ]
  },
  {
   "cell_type": "markdown",
   "metadata": {},
   "source": [
    "   ### Categorical Encoding"
   ]
  },
  {
   "cell_type": "code",
   "execution_count": null,
   "metadata": {
    "collapsed": true
   },
   "outputs": [],
   "source": []
  },
  {
   "cell_type": "markdown",
   "metadata": {},
   "source": []
  },
  {
   "cell_type": "code",
   "execution_count": null,
   "metadata": {
    "collapsed": true
   },
   "outputs": [],
   "source": []
  },
  {
   "cell_type": "markdown",
   "metadata": {},
   "source": [
    "## 3. Model Build\n",
    "Determine model type (eg. Random Forest, Simple Regressions, Multivariate, etc.) and choose teh correct template for your needs. This template is for general understanding."
   ]
  },
  {
   "cell_type": "markdown",
   "metadata": {},
   "source": [
    "   ### Split Data into Training & Testing Sets"
   ]
  },
  {
   "cell_type": "markdown",
   "metadata": {},
   "source": [
    "   ### Feature Scaling"
   ]
  },
  {
   "cell_type": "markdown",
   "metadata": {},
   "source": [
    "   ### Prediction (Regression) Generation"
   ]
  },
  {
   "cell_type": "markdown",
   "metadata": {},
   "source": [
    "## 4. Data Analysis & Visualizations"
   ]
  },
  {
   "cell_type": "markdown",
   "metadata": {},
   "source": [
    "   ###   Data Analysis"
   ]
  },
  {
   "cell_type": "markdown",
   "metadata": {},
   "source": [
    "   ### Visualizations"
   ]
  },
  {
   "cell_type": "markdown",
   "metadata": {},
   "source": [
    "## 5. Optimization"
   ]
  },
  {
   "cell_type": "markdown",
   "metadata": {},
   "source": [
    "### Reverse Model Optimization"
   ]
  },
  {
   "cell_type": "markdown",
   "metadata": {},
   "source": [
    "   #### Reverses Attribute/Variable Analysis\n",
    "Backwards elimination for multiple leanear models aka.multivariate, multiple regression, etc."
   ]
  },
  {
   "cell_type": "code",
   "execution_count": null,
   "metadata": {
    "collapsed": true
   },
   "outputs": [],
   "source": []
  },
  {
   "cell_type": "markdown",
   "metadata": {},
   "source": [
    "#### Attribute/Variable Removal"
   ]
  },
  {
   "cell_type": "markdown",
   "metadata": {},
   "source": [
    "### Optimization Testing"
   ]
  },
  {
   "cell_type": "markdown",
   "metadata": {
    "collapsed": true
   },
   "source": []
  }
 ],
 "metadata": {
  "kernelspec": {
   "display_name": "Python 3",
   "language": "python",
   "name": "python3"
  },
  "language_info": {
   "codemirror_mode": {
    "name": "ipython",
    "version": 3
   },
   "file_extension": ".py",
   "mimetype": "text/x-python",
   "name": "python",
   "nbconvert_exporter": "python",
   "pygments_lexer": "ipython3",
   "version": "3.6.0"
  }
 },
 "nbformat": 4,
 "nbformat_minor": 2
}
